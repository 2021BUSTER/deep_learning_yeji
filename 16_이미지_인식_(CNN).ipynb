{
  "nbformat": 4,
  "nbformat_minor": 0,
  "metadata": {
    "colab": {
      "name": "16_이미지 인식 (CNN).ipynb",
      "provenance": [],
      "toc_visible": true,
      "authorship_tag": "ABX9TyPZCjE2QZnBUvuXDz/w5lZm",
      "include_colab_link": true
    },
    "kernelspec": {
      "name": "python3",
      "display_name": "Python 3"
    },
    "language_info": {
      "name": "python"
    }
  },
  "cells": [
    {
      "cell_type": "markdown",
      "metadata": {
        "id": "view-in-github",
        "colab_type": "text"
      },
      "source": [
        "<a href=\"https://colab.research.google.com/github/2021BUSTER/deep_learning_yeji/blob/main/16_%EC%9D%B4%EB%AF%B8%EC%A7%80_%EC%9D%B8%EC%8B%9D_(CNN).ipynb\" target=\"_parent\"><img src=\"https://colab.research.google.com/assets/colab-badge.svg\" alt=\"Open In Colab\"/></a>"
      ]
    },
    {
      "cell_type": "markdown",
      "metadata": {
        "id": "xwqTXSmhNs_3"
      },
      "source": [
        "# 데이터 전처리 과정\n"
      ]
    },
    {
      "cell_type": "code",
      "metadata": {
        "colab": {
          "base_uri": "https://localhost:8080/"
        },
        "id": "bH-67GOsFZqy",
        "outputId": "b5bef3db-5bd2-40fe-dfc2-9e1b6befed91"
      },
      "source": [
        "# 0~9까지의 10개의 클래스를 저장하고 있음 : mnist\n",
        "from keras.datasets import mnist\n",
        "\n",
        "(X_train, Y_class_train), (X_test,Y_class_test)=mnist.load_data()\n",
        "\n",
        "print(\"학습셋 이미지 수: %d 개\" % (X_train.shape[0]))\n",
        "print(\"테스트셋 이미지 수: %d 개\" % (X_test.shape[0]))\n"
      ],
      "execution_count": 66,
      "outputs": [
        {
          "output_type": "stream",
          "text": [
            "학습셋 이미지 수: 60000 개\n",
            "테스트셋 이미지 수: 10000 개\n"
          ],
          "name": "stdout"
        }
      ]
    },
    {
      "cell_type": "markdown",
      "metadata": {
        "id": "4eM4uQx-Nlvs"
      },
      "source": [
        ""
      ]
    },
    {
      "cell_type": "code",
      "metadata": {
        "colab": {
          "base_uri": "https://localhost:8080/",
          "height": 0
        },
        "id": "adHwQIRTGhOy",
        "outputId": "81c8667f-ca7b-43e0-c5c6-ec7f5554408b"
      },
      "source": [
        "# 학습셋의 첫번째 이미지 show\n",
        "import matplotlib.pyplot as plt\n",
        "plt.imshow(X_train[0],cmap='Greys')\n",
        "plt.show()"
      ],
      "execution_count": 67,
      "outputs": [
        {
          "output_type": "display_data",
          "data": {
            "image/png": "[encoded data removed]",
            "text/plain": [
              "<Figure size 432x288 with 1 Axes>"
            ]
          },
          "metadata": {
            "tags": [],
            "needs_background": "light"
          }
        }
      ]
    },
    {
      "cell_type": "code",
      "metadata": {
        "colab": {
          "base_uri": "https://localhost:8080/"
        },
        "id": "nr9fBUFjHT5b",
        "outputId": "04d231b3-6117-450d-a12d-89d1911e26fb"
      },
      "source": [
        "# 위의 이미지는 행렬로 저장되어 있음\n",
        "#row=28 , column=28 28 X 28 = 784개의 데이터가 하나의 집합으로 이루어짐 \n",
        "# 각 데이터는 0~255로 이뤄어짐 \n",
        "import sys\n",
        "for x in X_train[0]:\n",
        "  for i in x:\n",
        "    sys.stdout.write('%d\\t' %i)\n",
        "  sys.stdout.write('\\n')"
      ],
      "execution_count": 68,
      "outputs": [
        {
          "output_type": "stream",
          "text": [
            "0\t0\t0\t0\t0\t0\t0\t0\t0\t0\t0\t0\t0\t0\t0\t0\t0\t0\t0\t0\t0\t0\t0\t0\t0\t0\t0\t0\t\n",
            "0\t0\t0\t0\t0\t0\t0\t0\t0\t0\t0\t0\t0\t0\t0\t0\t0\t0\t0\t0\t0\t0\t0\t0\t0\t0\t0\t0\t\n",
            "0\t0\t0\t0\t0\t0\t0\t0\t0\t0\t0\t0\t0\t0\t0\t0\t0\t0\t0\t0\t0\t0\t0\t0\t0\t0\t0\t0\t\n",
            "0\t0\t0\t0\t0\t0\t0\t0\t0\t0\t0\t0\t0\t0\t0\t0\t0\t0\t0\t0\t0\t0\t0\t0\t0\t0\t0\t0\t\n",
            "0\t0\t0\t0\t0\t0\t0\t0\t0\t0\t0\t0\t0\t0\t0\t0\t0\t0\t0\t0\t0\t0\t0\t0\t0\t0\t0\t0\t\n",
            "0\t0\t0\t0\t0\t0\t0\t0\t0\t0\t0\t0\t3\t18\t18\t18\t126\t136\t175\t26\t166\t255\t247\t127\t0\t0\t0\t0\t\n",
            "0\t0\t0\t0\t0\t0\t0\t0\t30\t36\t94\t154\t170\t253\t253\t253\t253\t253\t225\t172\t253\t242\t195\t64\t0\t0\t0\t0\t\n",
            "0\t0\t0\t0\t0\t0\t0\t49\t238\t253\t253\t253\t253\t253\t253\t253\t253\t251\t93\t82\t82\t56\t39\t0\t0\t0\t0\t0\t\n",
            "0\t0\t0\t0\t0\t0\t0\t18\t219\t253\t253\t253\t253\t253\t198\t182\t247\t241\t0\t0\t0\t0\t0\t0\t0\t0\t0\t0\t\n",
            "0\t0\t0\t0\t0\t0\t0\t0\t80\t156\t107\t253\t253\t205\t11\t0\t43\t154\t0\t0\t0\t0\t0\t0\t0\t0\t0\t0\t\n",
            "0\t0\t0\t0\t0\t0\t0\t0\t0\t14\t1\t154\t253\t90\t0\t0\t0\t0\t0\t0\t0\t0\t0\t0\t0\t0\t0\t0\t\n",
            "0\t0\t0\t0\t0\t0\t0\t0\t0\t0\t0\t139\t253\t190\t2\t0\t0\t0\t0\t0\t0\t0\t0\t0\t0\t0\t0\t0\t\n",
            "0\t0\t0\t0\t0\t0\t0\t0\t0\t0\t0\t11\t190\t253\t70\t0\t0\t0\t0\t0\t0\t0\t0\t0\t0\t0\t0\t0\t\n",
            "0\t0\t0\t0\t0\t0\t0\t0\t0\t0\t0\t0\t35\t241\t225\t160\t108\t1\t0\t0\t0\t0\t0\t0\t0\t0\t0\t0\t\n",
            "0\t0\t0\t0\t0\t0\t0\t0\t0\t0\t0\t0\t0\t81\t240\t253\t253\t119\t25\t0\t0\t0\t0\t0\t0\t0\t0\t0\t\n",
            "0\t0\t0\t0\t0\t0\t0\t0\t0\t0\t0\t0\t0\t0\t45\t186\t253\t253\t150\t27\t0\t0\t0\t0\t0\t0\t0\t0\t\n",
            "0\t0\t0\t0\t0\t0\t0\t0\t0\t0\t0\t0\t0\t0\t0\t16\t93\t252\t253\t187\t0\t0\t0\t0\t0\t0\t0\t0\t\n",
            "0\t0\t0\t0\t0\t0\t0\t0\t0\t0\t0\t0\t0\t0\t0\t0\t0\t249\t253\t249\t64\t0\t0\t0\t0\t0\t0\t0\t\n",
            "0\t0\t0\t0\t0\t0\t0\t0\t0\t0\t0\t0\t0\t0\t46\t130\t183\t253\t253\t207\t2\t0\t0\t0\t0\t0\t0\t0\t\n",
            "0\t0\t0\t0\t0\t0\t0\t0\t0\t0\t0\t0\t39\t148\t229\t253\t253\t253\t250\t182\t0\t0\t0\t0\t0\t0\t0\t0\t\n",
            "0\t0\t0\t0\t0\t0\t0\t0\t0\t0\t24\t114\t221\t253\t253\t253\t253\t201\t78\t0\t0\t0\t0\t0\t0\t0\t0\t0\t\n",
            "0\t0\t0\t0\t0\t0\t0\t0\t23\t66\t213\t253\t253\t253\t253\t198\t81\t2\t0\t0\t0\t0\t0\t0\t0\t0\t0\t0\t\n",
            "0\t0\t0\t0\t0\t0\t18\t171\t219\t253\t253\t253\t253\t195\t80\t9\t0\t0\t0\t0\t0\t0\t0\t0\t0\t0\t0\t0\t\n",
            "0\t0\t0\t0\t55\t172\t226\t253\t253\t253\t253\t244\t133\t11\t0\t0\t0\t0\t0\t0\t0\t0\t0\t0\t0\t0\t0\t0\t\n",
            "0\t0\t0\t0\t136\t253\t253\t253\t212\t135\t132\t16\t0\t0\t0\t0\t0\t0\t0\t0\t0\t0\t0\t0\t0\t0\t0\t0\t\n",
            "0\t0\t0\t0\t0\t0\t0\t0\t0\t0\t0\t0\t0\t0\t0\t0\t0\t0\t0\t0\t0\t0\t0\t0\t0\t0\t0\t0\t\n",
            "0\t0\t0\t0\t0\t0\t0\t0\t0\t0\t0\t0\t0\t0\t0\t0\t0\t0\t0\t0\t0\t0\t0\t0\t0\t0\t0\t0\t\n",
            "0\t0\t0\t0\t0\t0\t0\t0\t0\t0\t0\t0\t0\t0\t0\t0\t0\t0\t0\t0\t0\t0\t0\t0\t0\t0\t0\t0\t\n"
          ],
          "name": "stdout"
        }
      ]
    },
    {
      "cell_type": "code",
      "metadata": {
        "id": "owWbGDpoH5XO"
      },
      "source": [
        "# 차원 변환 과정\n",
        "# 2차원 배열을 784개의 1차원 배열로 바꿔줌 : reshape\n",
        "X_train=X_train.reshape(X_train.shape[0],784)  # reshape(총 샘플 수 , 1차원 속성수)"
      ],
      "execution_count": 69,
      "outputs": []
    },
    {
      "cell_type": "code",
      "metadata": {
        "id": "aNufxdC7JHCE"
      },
      "source": [
        "# 정규화\n",
        "#케라스는 0~1사이의 값으로 변환한 다음 구동할 때 최적의 성능을 보임으로 0~255데이터를 0~1로 변환\n",
        "\n",
        "X_train=X_train.astype('float64') # 실수형으로 바꾸기\n",
        "X_train=X_train/255"
      ],
      "execution_count": 70,
      "outputs": []
    },
    {
      "cell_type": "code",
      "metadata": {
        "colab": {
          "base_uri": "https://localhost:8080/"
        },
        "id": "NhvArr-pJsVQ",
        "outputId": "8d0d31dc-acda-4fa1-d058-4673803ecc72"
      },
      "source": [
        "# X_test도 동일과정 진행\n",
        "\n",
        "X_test=X_test.reshape(X_test.shape[0],784).astype('float64')/255\n",
        "\n",
        "print(\"class : %d\" %(Y_class_train[0]))  # 클래스 찍어 레이블 값 확인"
      ],
      "execution_count": 71,
      "outputs": [
        {
          "output_type": "stream",
          "text": [
            "class : 5\n"
          ],
          "name": "stdout"
        }
      ]
    },
    {
      "cell_type": "markdown",
      "metadata": {
        "id": "gCkGWO_NLZtx"
      },
      "source": [
        "** 원-핫 인코딩 방식 적용**\n",
        "\n",
        "분류문제를 해결하기 위함 ( 아이리스 품종 예측 문제에서 사용 )\n",
        "  = 0~9까지의 정수형 값을 0 or 1로만 이루어진 벡터로 값 수정해야함\n",
        "> class[5] => [0 0 0 0 0 1 0 0 0 0]   \n",
        "> np_utils.to_categorial(클래스, 클래스의 개수)"
      ]
    },
    {
      "cell_type": "code",
      "metadata": {
        "colab": {
          "base_uri": "https://localhost:8080/"
        },
        "id": "aAvjBzKFKlx7",
        "outputId": "093ef52b-a76b-45f8-f733-c57239e859e9"
      },
      "source": [
        "# 바이러리화 과정\n",
        "from keras.utils import np_utils\n",
        "\n",
        "Y_train=np_utils.to_categorical(Y_class_train,10)\n",
        "Y_test=np_utils.to_categorical(Y_class_test,10)\n",
        "print(Y_train[0])"
      ],
      "execution_count": 72,
      "outputs": [
        {
          "output_type": "stream",
          "text": [
            "[0. 0. 0. 0. 0. 1. 0. 0. 0. 0.]\n"
          ],
          "name": "stdout"
        }
      ]
    },
    {
      "cell_type": "markdown",
      "metadata": {
        "id": "7Yn_W0vWN011"
      },
      "source": [
        "# 프레임 만들기\n"
      ]
    },
    {
      "cell_type": "code",
      "metadata": {
        "id": "bHuSWyK1N6-P"
      },
      "source": [
        "#모델 프레임 설정\n",
        "from keras.models import Sequential\n",
        "from keras.layers import Dense\n",
        "\n",
        "model=Sequential()\n",
        "model.add(Dense(512,input_dim=784,activation='relu'))  # 은닉층 = 512개, input_dim (입력값) = 784개, 은닉층의 활성화 함수 = relu  \n",
        "model.add(Dense(10,activation='softmax'))              # 출력 = 10개, 출력츠의 활성화 함수 = softmax\n",
        "model.compile(loss='categorical_crossentropy', optimizer='adam',metrics=['accuracy'])  # 딥러닝 실행 환경을 위한 오차 함수 = categorical_crossentropy, 최적화 함수 = adam"
      ],
      "execution_count": 63,
      "outputs": []
    },
    {
      "cell_type": "code",
      "metadata": {
        "colab": {
          "base_uri": "https://localhost:8080/"
        },
        "id": "IIJUHPNiUIQU",
        "outputId": "d14e0e71-3f3e-4cfb-e6eb-e540a1681484"
      },
      "source": [
        "# 실행에 앞서 모델의 성과를 저장하고 모델의 최적화 단계에서 학습을 자동 중단하게끔 설정 (14장)\n",
        "# 10회 이상 모델의 성과 향상이 없으면 자동으로 학습 종료\n",
        "\n",
        "import os\n",
        "from keras.callbacks import ModelCheckpoint, EarlyStopping\n",
        "\n",
        "MODEL_DIR='./model/'\n",
        "if not os.path.exists(MODEL_DIR):\n",
        "  os.mkdir(MODEL_DIR)\n",
        "modelpath=\"./model/{epoch:02d}-{val_loss:.4f}.hdf5\"\n",
        "checkpointer=ModelCheckpoint(filepath=modelpath,monitor='val_loss',verbos=1,save_best_only=True)\n",
        "early_stopping_callback=EarlyStopping(monitor='val_loss',patience=10)\n",
        "\n",
        "# 샘플 200개를 모두 30번 실행하게끔 설정\n",
        "# 테스트셋으로 최종 모델의 성과를 측정해 그 값을 출력\n",
        "history=model.fit(X_train,Y_train,validation_data=(X_test,Y_test),epochs=30,batch_size=200,verbose=0,callbacks=[early_stopping_callback,checkpointer])\n",
        "\n",
        "print(\"\\n Test Accuracy: %.4f\" %(model.evaluate(X_test,Y_test)[1]))\n",
        "\n"
      ],
      "execution_count": 64,
      "outputs": [
        {
          "output_type": "stream",
          "text": [
            "313/313 [==============================] - 1s 2ms/step - loss: 0.0695 - accuracy: 0.9833\n",
            "\n",
            " Test Accuracy: 0.9833\n"
          ],
          "name": "stdout"
        }
      ]
    },
    {
      "cell_type": "code",
      "metadata": {
        "colab": {
          "base_uri": "https://localhost:8080/",
          "height": 0
        },
        "id": "x8ve8jXIWwvc",
        "outputId": "643f77db-7b60-4cc0-cca3-e74dea77d05a"
      },
      "source": [
        "# 실행 결과를 그래프로 표현\n",
        "# 학습셋의 오차를 그래프로 표현\n",
        "\n",
        "y_vloss=history.history['val_loss']\n",
        "\n",
        "#학습셋 오차\n",
        "y_loss=history.history['loss']\n",
        "\n",
        "#그래프로 표현\n",
        "x_len=numpy.arange(len(y_loss))\n",
        "plt.plot(x_len,y_vloss,marker='.',c=\"red\",label='Testset_loss')\n",
        "plt.plot(x_len,y_loss,marker='.',c=\"blue\",label='Train_loss')\n",
        "\n",
        "# 그래프에 그리드를 주고 레이블 표시\n",
        "plt.legend(loc='upper right')\n",
        "plt.grid()\n",
        "plt.xlabel('epoch')\n",
        "plt.ylabel('loss')\n",
        "plt.show()\n",
        "\n",
        "# 테스트의 과적합이 일어나기 전 학습을 끝낸 모습"
      ],
      "execution_count": 65,
      "outputs": [
        {
          "output_type": "display_data",
          "data": {
            "image/png": "[encoded data removed]",
            "text/plain": [
              "<Figure size 432x288 with 1 Axes>"
            ]
          },
          "metadata": {
            "tags": [],
            "needs_background": "light"
          }
        }
      ]
    },
    {
      "cell_type": "markdown",
      "metadata": {
        "id": "6zL-3Xd-iXT_"
      },
      "source": [
        "# 컨볼루션 신경망 (CNN) \n",
        "- 이미지 특징 추출\n",
        "\n",
        " : 입력된 이미지에서 다시 한번 특징을 추출하기 위해 마스크(필터, 윈도 or 커널)를 도입하는 기법"
      ]
    },
    {
      "cell_type": "markdown",
      "metadata": {
        "id": "hXh-G0MKqDQT"
      },
      "source": [
        " MNIST 손글씨 인식률 높이기\n",
        "\n",
        "> 컨볼루션 층 추가 : Conv2D()\n",
        " \n",
        "- 첫번째 인자 : 마스크 적용할 개수    \n",
        "- 두번째 인자 : 마스크(커널)의 크기 (행,열)   \n",
        "- 세번재 인자 : 맨 처음 층에는 입력되는 값을 알려줘야 함  input_shape=(행,열,색상 or 흑백)    \n",
        "- 네번째 인자 : 활성화 함수 정의 \n",
        "\n",
        "> 컨볼루션은 1차원 배열을 다룸\n",
        "\n",
        "### 맥스풀링 (of 풀링)\n",
        " - 축소 (= 풀링 or 서브 샘플링)\n",
        "\n",
        "=> 컨볼루션 결과가 여전히 크고 복잡함으로 이를 축소해야 함으로 필요\n",
        "> MacPooling2D()\n",
        "\n",
        "> 맥스 풀링 : 정해진 구역 안에서 최대값을 뽑아냄 (보편적으로 사용)   \n",
        "> 평균 풀링 : 정해진 구역 안에서 평균값을 뽑아냄\n",
        "\n",
        "> 맥스풀링은 1차원 배열을 다룸\n",
        "\n",
        "+ 드롭아웃, 플래튼\n",
        "\n",
        "=> 은닉층에 배치된 노드 중 일부를 임의로 꺼줌으로 학습 데이터에 지자치게 치우쳐서 학습되는 과적합을 방지\n",
        "> Dropout()"
      ]
    },
    {
      "cell_type": "code",
      "metadata": {
        "colab": {
          "base_uri": "https://localhost:8080/",
          "height": 1000
        },
        "id": "vJglCydCwS6-",
        "outputId": "ef57eddc-27a6-4a47-e0c0-e3aff73b6eba"
      },
      "source": [
        "#-*- coding: utf-8 -*-\n",
        "\n",
        "from keras.datasets import mnist\n",
        "from keras.utils import np_utils\n",
        "from keras.models import Sequential\n",
        "from keras.layers import Dense, Dropout, Flatten, Conv2D, MaxPooling2D\n",
        "from keras.callbacks import ModelCheckpoint,EarlyStopping\n",
        "\n",
        "import matplotlib.pyplot as plt\n",
        "import numpy\n",
        "import os\n",
        "import tensorflow as tf\n",
        "\n",
        "# seed 값 설정\n",
        "seed = 0\n",
        "numpy.random.seed(seed)\n",
        "tf.random.set_seed(3)\n",
        "\n",
        "# 데이터 불러오기\n",
        "\n",
        "(X_train, Y_train), (X_test, Y_test) = mnist.load_data()\n",
        "X_train = X_train.reshape(X_train.shape[0], 28, 28, 1).astype('float32') / 255\n",
        "X_test = X_test.reshape(X_test.shape[0], 28, 28, 1).astype('float32') / 255\n",
        "Y_train = np_utils.to_categorical(Y_train)\n",
        "Y_test = np_utils.to_categorical(Y_test)\n",
        "\n",
        "# 컨볼루션 신경망의 설정\n",
        "model = Sequential()\n",
        "model.add(Conv2D(32, kernel_size=(3, 3), input_shape=(28, 28, 1), activation='relu'))\n",
        "model.add(Conv2D(64, (3, 3), activation='relu'))\n",
        "model.add(MaxPooling2D(pool_size=2))\n",
        "model.add(Dropout(0.25))\n",
        "model.add(Flatten())\n",
        "model.add(Dense(128,  activation='relu'))\n",
        "model.add(Dropout(0.5))\n",
        "model.add(Dense(10, activation='softmax'))\n",
        "\n",
        "model.compile(loss='categorical_crossentropy',\n",
        "              optimizer='adam',\n",
        "              metrics=['accuracy'])\n",
        "\n",
        "# 모델 최적화 설정\n",
        "MODEL_DIR = './model/'\n",
        "if not os.path.exists(MODEL_DIR):\n",
        "    os.mkdir(MODEL_DIR)\n",
        "\n",
        "modelpath=\"./model/{epoch:02d}-{val_loss:.4f}.hdf5\"\n",
        "checkpointer = ModelCheckpoint(filepath=modelpath, monitor='val_loss', verbose=1, save_best_only=True)\n",
        "early_stopping_callback = EarlyStopping(monitor='val_loss', patience=10)\n",
        "\n",
        "# 모델의 실행\n",
        "history = model.fit(X_train, Y_train, validation_data=(X_test, Y_test), epochs=30, batch_size=200, verbose=0, callbacks=[early_stopping_callback,checkpointer])\n",
        "\n",
        "# 테스트 정확도 출력\n",
        "print(\"\\n Test Accuracy: %.4f\" % (model.evaluate(X_test, Y_test)[1]))\n",
        "\n",
        "# 테스트 셋의 오차\n",
        "y_vloss = history.history['val_loss']\n",
        "\n",
        "# 학습셋의 오차\n",
        "y_loss = history.history['loss']\n",
        "\n",
        "# 그래프로 표현\n",
        "x_len = numpy.arange(len(y_loss))\n",
        "plt.plot(x_len, y_vloss, marker='.', c=\"red\", label='Testset_loss')\n",
        "plt.plot(x_len, y_loss, marker='.', c=\"blue\", label='Trainset_loss')\n",
        "\n",
        "# 그래프에 그리드를 주고 레이블을 표시\n",
        "plt.legend(loc='upper right')\n",
        "plt.grid()\n",
        "plt.xlabel('epoch')\n",
        "plt.ylabel('loss')\n",
        "plt.show()\n"
      ],
      "execution_count": 74,
      "outputs": [
        {
          "output_type": "stream",
          "text": [
            "\n",
            "Epoch 00001: val_loss improved from inf to 0.05434, saving model to ./model/01-0.0543.hdf5\n",
            "\n",
            "Epoch 00002: val_loss improved from 0.05434 to 0.03815, saving model to ./model/02-0.0381.hdf5\n",
            "\n",
            "Epoch 00003: val_loss improved from 0.03815 to 0.03551, saving model to ./model/03-0.0355.hdf5\n",
            "\n",
            "Epoch 00004: val_loss improved from 0.03551 to 0.03080, saving model to ./model/04-0.0308.hdf5\n",
            "\n",
            "Epoch 00005: val_loss did not improve from 0.03080\n",
            "\n",
            "Epoch 00006: val_loss improved from 0.03080 to 0.02844, saving model to ./model/06-0.0284.hdf5\n",
            "\n",
            "Epoch 00007: val_loss did not improve from 0.02844\n",
            "\n",
            "Epoch 00008: val_loss did not improve from 0.02844\n",
            "\n",
            "Epoch 00009: val_loss did not improve from 0.02844\n",
            "\n",
            "Epoch 00010: val_loss improved from 0.02844 to 0.02829, saving model to ./model/10-0.0283.hdf5\n",
            "\n",
            "Epoch 00011: val_loss improved from 0.02829 to 0.02774, saving model to ./model/11-0.0277.hdf5\n",
            "\n",
            "Epoch 00012: val_loss did not improve from 0.02774\n",
            "\n",
            "Epoch 00013: val_loss improved from 0.02774 to 0.02570, saving model to ./model/13-0.0257.hdf5\n",
            "\n",
            "Epoch 00014: val_loss did not improve from 0.02570\n",
            "\n",
            "Epoch 00015: val_loss did not improve from 0.02570\n",
            "\n",
            "Epoch 00016: val_loss did not improve from 0.02570\n",
            "\n",
            "Epoch 00017: val_loss did not improve from 0.02570\n",
            "\n",
            "Epoch 00018: val_loss did not improve from 0.02570\n",
            "\n",
            "Epoch 00019: val_loss did not improve from 0.02570\n",
            "\n",
            "Epoch 00020: val_loss did not improve from 0.02570\n",
            "\n",
            "Epoch 00021: val_loss did not improve from 0.02570\n",
            "\n",
            "Epoch 00022: val_loss did not improve from 0.02570\n",
            "\n",
            "Epoch 00023: val_loss did not improve from 0.02570\n",
            "313/313 [==============================] - 5s 17ms/step - loss: 0.0268 - accuracy: 0.9932\n",
            "\n",
            " Test Accuracy: 0.9932\n"
          ],
          "name": "stdout"
        },
        {
          "output_type": "display_data",
          "data": {
            "image/png": "[encoded data removed]",
            "text/plain": [
              "<Figure size 432x288 with 1 Axes>"
            ]
          },
          "metadata": {
            "tags": [],
            "needs_background": "light"
          }
        }
      ]
    }
  ]
}